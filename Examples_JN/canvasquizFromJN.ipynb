{
 "cells": [
  {
   "cell_type": "markdown",
   "metadata": {},
   "source": [
    "Question\n",
    "========\n",
    "What is a pareto frontier?\n",
    "\n",
    "Answerlist\n",
    "----------\n",
    "* point at which solution becomes optimal\n",
    "* edge of a set that contains all possible optimal values\n",
    "* algorithm to find optimal values of a convex set\n",
    "* All of the above\n",
    "\n",
    "\n",
    "Solution\n",
    "========\n",
    "The second option is the most correct.\n",
    "\n",
    "Answerlist\n",
    "----------\n",
    "* False\n",
    "* True\n",
    "* False\n",
    "* False\n",
    "\n",
    "\n",
    "Meta-information\n",
    "================\n",
    "exname: Pareto\n",
    "extype: schoice\n",
    "exsolution: 0100\n",
    "exshuffle: 4\n"
   ]
  }
 ],
 "metadata": {
  "jupytext": {
   "formats": "ipynb,Rmd"
  },
  "kernelspec": {
   "display_name": "Python 3",
   "language": "python",
   "name": "python3"
  },
  "language_info": {
   "codemirror_mode": {
    "name": "ipython",
    "version": 3
   },
   "file_extension": ".py",
   "mimetype": "text/x-python",
   "name": "python",
   "nbconvert_exporter": "python",
   "pygments_lexer": "ipython3",
   "version": "3.7.4"
  }
 },
 "nbformat": 4,
 "nbformat_minor": 2
}
