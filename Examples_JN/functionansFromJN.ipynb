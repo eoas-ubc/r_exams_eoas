{
 "cells": [
  {
   "cell_type": "code",
   "execution_count": null,
   "metadata": {},
   "outputs": [],
   "source": [
    "%%R\n",
    "library(reticulate)"
   ]
  },
  {
   "cell_type": "code",
   "execution_count": 1,
   "metadata": {
    "lines_to_next_cell": 2,
    "name": "data generation",
    "tags": [
     "remove_input",
     "remove_output"
    ]
   },
   "outputs": [],
   "source": [
    "import random\n",
    "dat= [[\"lm\",\"least-squares regression\"], [\"glm\", \"Poisson regression\"], [\"glm.nb\",\"negative binomial regression\"], [\"model.matrix\",\"extracting the regressor matrix from a fitted (generalized) linear model object\"],[\"coef\",\"extracting the estimated coefficients from a fitted (generalized) linear model object\"],[\"vcov\",\"extracting the estimated covariance matrix from a fitted (generalized) linear model object\"],[\"logLik\",\"extracting the fitted log-likelihood from a fitted (generalized) linear model object\"]]\n",
    "\n",
    "i = random.sample(range(7),1)[0]\n",
    "fun = dat[i][0]\n",
    "descr = dat[i][1]"
   ]
  },
  {
   "cell_type": "markdown",
   "metadata": {},
   "source": [
    "Question\n",
    "========\n",
    "What is the name of the R function for `r py$descr`?\n",
    "\n",
    "Solution\n",
    "========\n",
    "``r py$fun`` is the R function for `r py$descr`.\n",
    "Use ? for the corresponding manual page.\n",
    "\n",
    "Meta-information\n",
    "================\n",
    "extype: string\n",
    "exsolution: `r py$fun`\n",
    "exname: R functions"
   ]
  }
 ],
 "metadata": {
  "jupytext": {
   "cell_metadata_filter": "name,tags,-all",
   "formats": "ipynb,Rmd",
   "main_language": "python",
   "notebook_metadata_filter": "-all"
  },
  "kernelspec": {
   "display_name": "Python 3",
   "language": "python",
   "name": "python3"
  },
  "language_info": {
   "codemirror_mode": {
    "name": "ipython",
    "version": 3
   },
   "file_extension": ".py",
   "mimetype": "text/x-python",
   "name": "python",
   "nbconvert_exporter": "python",
   "pygments_lexer": "ipython3",
   "version": "3.7.4"
  }
 },
 "nbformat": 4,
 "nbformat_minor": 2
}
