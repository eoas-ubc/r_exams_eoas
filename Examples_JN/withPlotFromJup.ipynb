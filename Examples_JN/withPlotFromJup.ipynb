{
 "cells": [
  {
   "cell_type": "code",
   "execution_count": null,
   "metadata": {
    "echo": false,
    "message": false,
    "tags": [
     "remove_output"
    ],
    "warning": false
   },
   "outputs": [],
   "source": [
    "library(reticulate)\n",
    "library(exams)"
   ]
  },
  {
   "cell_type": "code",
   "execution_count": null,
   "metadata": {
    "echo": false,
    "name": "data generation",
    "tags": [
     "remove_output"
    ]
   },
   "outputs": [],
   "source": [
    "%%python\n",
    "import random\n",
    "import numpy as np\n",
    "import array\n",
    "r = random.sample([-.97, 0, .5, .97], 1)[0]\n",
    "if np.random.uniform(size=1) < 1/3:\n",
    "  mx=0\n",
    "  my=0\n",
    "  sx=1\n",
    "  sy=1\n",
    "else:\n",
    "  mx= random.sample(list(10*np.arange(-5,5)),1)[0]\n",
    "  my= random.sample(list(10*np.arange(0,5)),1)[0]\n",
    "  sx= random.sample([1, 10, 20],1)[0]\n",
    "  sy= random.sample([1,10,20],1)[0]\n",
    "\n",
    "b= r* (sy/sx)\n",
    "a= my - b*mx\n",
    "x= np.random.normal(mx,sx,size=200)\n",
    "y= b*x + np.random.normal(a,sy*np.sqrt(1-r**2),200)\n",
    "questions = ['','','','']\n",
    "explanations= ['','','','']\n",
    "solutions= [True,True,True,True]\n",
    "\n",
    "if (np.random.uniform(size=1)[0] < .5):\n",
    "  questions[0] = 'The scatterplot is standardized.'\n",
    "  solutions[0] = mx==0 and my==0 and sx==1 and sy==1\n",
    "else:\n",
    "  questions[0]= \"The slope of the regression line is about 1.\"\n",
    "  solutions[0]= abs(b-1) < .1\n",
    "  explanations[0]= \"The slope of the regression line is\" + str(b)\n",
    "  \n",
    "if (solutions[0]): \n",
    "  explanations[0]= \"X and Y have both mean 0 and variance 1.\" \n",
    "else: \n",
    "  explanations[0]=\"The scatterplot is not standardized, because X and Y do not both have mean 0 and variance 1.\"\n",
    "   \n",
    "   \n",
    "if(np.random.uniform(size=1)[0] < .5):\n",
    "  questions[1] = \"The absolute value of the correlation coeffiient is at least .8\"\n",
    "  solutions[1] = abs(r) >= .8\n",
    "else:\n",
    "  questions[1]=\"The absolute value of the correlation coefficient is at most .8.\"\n",
    "  solutions[1]= abs(r) <= .8\n",
    "   \n",
    "if(abs(r) >= .9):\n",
    "  explanations[1]=\"A strong association between the variables is given in the scatterplot, so the absolute correlation coefficient is larger than .8.\"\n",
    "elif(abs(r)==0):\n",
    "  explanations[1]=\"No association between the variables is observed in the scatterplot. This implies a correlation coefficient close to 0.\"\n",
    "else:\n",
    "  explanations[1]=\"Only a slightly positive association between the variables is observable in the scatterplot\"\n",
    " \n",
    "if(np.random.uniform(size=1) <.5):\n",
    "  questions[2] = \"The standard deviation of X is at least 6\"\n",
    "  solutions[2] = sy >= 6\n",
    "  explanations[2] = \"The standard deviation of X is equal to \" + str(sx)\n",
    "else:\n",
    "  questions[2]= \"The standard deviation of Y is at least 6.\"\n",
    "  solutions[2]= sy>=6\n",
    "  explanations[2]= \"The standard deviation of Y is equal to\" + str(sy)\n",
    " \n",
    "if(np.random.uniform(size=1) < .5):\n",
    "  questions[3]= \"The mean of X is at most 5.\"\n",
    "  solutions[3]= mx<=5\n",
    "  explanations[3]=\"The mean of X is about equal to\" + str(mx)\n",
    "else:\n",
    "  questions[3]=\"The mean of Y is at least 30\"\n",
    "  solutions[3]= my>= 30\n",
    "  explanations[3]= \"The mean of Y is equal to\" + str(my)\n",
    "  \n",
    "o= random.sample(list(np.arange(0,4)),4)\n",
    "questions=[questions[i] for i in o]\n",
    "solutions=[solutions[i] for i in o]\n",
    "explanations= [explanations[i] for i in o]\n",
    "\n",
    "\n"
   ]
  },
  {
   "cell_type": "markdown",
   "metadata": {
    "lines_to_next_cell": 0
   },
   "source": [
    "Question\n",
    "========\n",
    "\n",
    "The following figure shows a scatterplot. Which of the following statements are correct?"
   ]
  },
  {
   "cell_type": "code",
   "execution_count": null,
   "metadata": {
    "echo": false,
    "lines_to_next_cell": 2
   },
   "outputs": [],
   "source": [
    "plot(py$x,py$y,xlab=\"x\",ylab=\"y\")"
   ]
  },
  {
   "cell_type": "code",
   "execution_count": null,
   "metadata": {
    "lines_to_next_cell": 2,
    "name": "questionlist",
    "results": "asis",
    "tags": [
     "remove_input"
    ]
   },
   "outputs": [],
   "source": [
    "answerlist(py$questions, markup = \"markdown\")"
   ]
  },
  {
   "cell_type": "markdown",
   "metadata": {},
   "source": [
    "Solution\n",
    "========"
   ]
  },
  {
   "cell_type": "code",
   "execution_count": null,
   "metadata": {
    "lines_to_next_cell": 2,
    "name": "solutionlist",
    "results": "asis",
    "tags": [
     "remove_input"
    ]
   },
   "outputs": [],
   "source": [
    "answerlist(ifelse(py$solutions, \"True\", \"False\"), py$explanations, markup = \"markdown\")"
   ]
  },
  {
   "cell_type": "markdown",
   "metadata": {},
   "source": [
    "Meta-information\n",
    "================\n",
    "extype: mchoice\n",
    "exsolution: `r mchoice2string(py$solutions)`\n",
    "exname: Scatterplot"
   ]
  }
 ],
 "metadata": {
  "jupytext": {
   "cell_metadata_filter": "results,name,message,warning,echo,tags,-all",
   "formats": "ipynb,Rmd",
   "main_language": "R",
   "notebook_metadata_filter": "-all"
  },
  "kernelspec": {
   "display_name": "Python 3",
   "language": "python",
   "name": "python3"
  },
  "language_info": {
   "codemirror_mode": {
    "name": "ipython",
    "version": 3
   },
   "file_extension": ".py",
   "mimetype": "text/x-python",
   "name": "python",
   "nbconvert_exporter": "python",
   "pygments_lexer": "ipython3",
   "version": "3.7.4"
  }
 },
 "nbformat": 4,
 "nbformat_minor": 2
}
